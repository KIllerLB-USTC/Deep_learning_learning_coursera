{
 "cells": [
  {
   "cell_type": "code",
   "execution_count": 4,
   "metadata": {},
   "outputs": [
    {
     "name": "stdout",
     "output_type": "stream",
     "text": [
      "[1 2 3 4]\n"
     ]
    }
   ],
   "source": [
    "import numpy as np\n",
    "\n",
    "\n",
    "a = np.array([1,2,3,4])\n",
    "print(a)"
   ]
  },
  {
   "cell_type": "code",
   "execution_count": 15,
   "metadata": {},
   "outputs": [
    {
     "name": "stdout",
     "output_type": "stream",
     "text": [
      "[0.92163118 0.69659857 0.33819332]\n",
      "3.3294082749050395\n",
      "249578.66253230738\n",
      "vetorized version\t0.9241104125976562ms\n",
      "249578.6625323141\n",
      "loop version\t540.3602123260498ms\n"
     ]
    }
   ],
   "source": [
    "import time\n",
    "\n",
    "a = np.random.rand(1000000)\n",
    "b = np.random.rand(1000000)\n",
    "c = np.random.rand(3)\n",
    "d = [1,2,3]\n",
    "print(c)\n",
    "e = np.dot(c,d)\n",
    "print(e)\n",
    "tic = time.time()\n",
    "f = np.dot(a,b)\n",
    "toc = time.time()\n",
    "print(f)\n",
    "print('vetorized version\\t' + str(1000*(toc-tic))+'ms')\n",
    "\n",
    "g = 0 \n",
    "tic = time.time()\n",
    "for i in range(1000000):\n",
    "    g += a[i]*b[i]\n",
    "toc = time.time()\n",
    "print(g)\n",
    "print('loop version\\t' + str(1000*(toc-tic))+'ms')\n",
    "\n",
    "\n"
   ]
  },
  {
   "cell_type": "markdown",
   "metadata": {},
   "source": [
    "## What I find above\n",
    "\n",
    "First *np.random.rand(N)* creates a N dimensional vector and *np.dot* menas dot product\n",
    "###### and you can also find that\n",
    "\n",
    "the loop version really slow than the vectorize version!\n"
   ]
  },
  {
   "cell_type": "markdown",
   "metadata": {},
   "source": [
    "#### SIMD helps the function implement like np.dot() runs faster\n",
    "\n",
    "Both under the GPU and CPU "
   ]
  },
  {
   "cell_type": "code",
   "execution_count": null,
   "metadata": {},
   "outputs": [],
   "source": []
  }
 ],
 "metadata": {
  "kernelspec": {
   "display_name": "Python 3",
   "language": "python",
   "name": "python3"
  },
  "language_info": {
   "codemirror_mode": {
    "name": "ipython",
    "version": 3
   },
   "file_extension": ".py",
   "mimetype": "text/x-python",
   "name": "python",
   "nbconvert_exporter": "python",
   "pygments_lexer": "ipython3",
   "version": "3.9.0"
  }
 },
 "nbformat": 4,
 "nbformat_minor": 4
}
