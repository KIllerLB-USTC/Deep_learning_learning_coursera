{
 "cells": [
  {
   "cell_type": "code",
   "execution_count": 3,
   "metadata": {},
   "outputs": [
    {
     "name": "stdout",
     "output_type": "stream",
     "text": [
      "[1 2 3 4]\n"
     ]
    }
   ],
   "source": [
    "import numpy as np\n",
    "\n",
    "\n",
    "a = np.array([1,2,3,4])\n",
    "print(a)"
   ]
  },
  {
   "cell_type": "code",
   "execution_count": 15,
   "metadata": {},
   "outputs": [
    {
     "name": "stdout",
     "output_type": "stream",
     "text": [
      "[0.92163118 0.69659857 0.33819332]\n",
      "3.3294082749050395\n",
      "249578.66253230738\n",
      "vetorized version\t0.9241104125976562ms\n",
      "249578.6625323141\n",
      "loop version\t540.3602123260498ms\n"
     ]
    }
   ],
   "source": [
    "import time\n",
    "\n",
    "a = np.random.rand(1000000)\n",
    "b = np.random.rand(1000000)\n",
    "c = np.random.rand(3)\n",
    "d = [1,2,3]\n",
    "print(c)\n",
    "e = np.dot(c,d)\n",
    "print(e)\n",
    "tic = time.time()\n",
    "f = np.dot(a,b)\n",
    "toc = time.time()\n",
    "print(f)\n",
    "print('vetorized version\\t' + str(1000*(toc-tic))+'ms')\n",
    "\n",
    "g = 0 \n",
    "tic = time.time()\n",
    "for i in range(1000000):\n",
    "    g += a[i]*b[i]\n",
    "toc = time.time()\n",
    "print(g)\n",
    "print('loop version\\t' + str(1000*(toc-tic))+'ms')\n",
    "\n",
    "\n"
   ]
  },
  {
   "cell_type": "markdown",
   "metadata": {},
   "source": [
    "## What I find above\n",
    "\n",
    "First *np.random.rand(N)* creates a N dimensional vector and *np.dot* menas dot product\n",
    "###### and you can also find that\n",
    "\n",
    "the loop version really slow than the vectorize version!\n"
   ]
  },
  {
   "cell_type": "markdown",
   "metadata": {},
   "source": [
    "#### SIMD helps the function implement like np.dot() runs faster\n",
    "\n",
    "Both under the GPU and CPU "
   ]
  },
  {
   "cell_type": "markdown",
   "metadata": {},
   "source": [
    "### So here is the note of the broadcating and the debug skii\n",
    "first let we looking of the braodcating"
   ]
  },
  {
   "cell_type": "code",
   "execution_count": 6,
   "metadata": {},
   "outputs": [
    {
     "name": "stdout",
     "output_type": "stream",
     "text": [
      "[[ 56.    0.    4.4  68. ]\n",
      " [  1.2 104.   52.    8. ]\n",
      " [  1.8 135.   99.    0.9]]\n"
     ]
    }
   ],
   "source": [
    "A = np.array([[56.0,0,4.4,68.0],[1.2,104.0,52.0,8.0],[1.8,135.0,99.0,0.9]])\n",
    "print(A)"
   ]
  },
  {
   "cell_type": "code",
   "execution_count": 7,
   "metadata": {},
   "outputs": [
    {
     "name": "stdout",
     "output_type": "stream",
     "text": [
      "[ 59.  239.  155.4  76.9]\n"
     ]
    }
   ],
   "source": [
    "Cal = A.sum(axis=0)\n",
    "print(Cal)"
   ]
  },
  {
   "cell_type": "code",
   "execution_count": 9,
   "metadata": {},
   "outputs": [
    {
     "name": "stdout",
     "output_type": "stream",
     "text": [
      "[[0.94915254 0.         0.02831403 0.88426528]\n",
      " [0.02033898 0.43514644 0.33462033 0.10403121]\n",
      " [0.03050847 0.56485356 0.63706564 0.01170351]]\n"
     ]
    }
   ],
   "source": [
    "percentage = A/Cal.reshape(1,4)\n",
    "print(percentage)"
   ]
  },
  {
   "cell_type": "markdown",
   "metadata": {},
   "source": [
    "So what we see above is that python brodcasting the (1,4) Cal Matrix to the (3,4) matrix same as the A \n",
    "\n",
    "Also the *axis=0* means vertical direction and the *axis=1* means the horizatal direction"
   ]
  },
  {
   "cell_type": "markdown",
   "metadata": {},
   "source": [
    "### But the broadcasting may arise the error and bug,\n",
    "#### Here is tips from angrew"
   ]
  },
  {
   "cell_type": "code",
   "execution_count": 10,
   "metadata": {},
   "outputs": [
    {
     "name": "stdout",
     "output_type": "stream",
     "text": [
      "[-1.83088109  1.30006749  0.55872459  0.17494509  0.65157424]\n"
     ]
    }
   ],
   "source": [
    "a= np.random.randn(5)\n",
    "print(a)"
   ]
  },
  {
   "cell_type": "code",
   "execution_count": 11,
   "metadata": {},
   "outputs": [
    {
     "name": "stdout",
     "output_type": "stream",
     "text": [
      "(5,)\n"
     ]
    }
   ],
   "source": [
    "print(a.shape)"
   ]
  },
  {
   "cell_type": "code",
   "execution_count": 12,
   "metadata": {},
   "outputs": [
    {
     "name": "stdout",
     "output_type": "stream",
     "text": [
      "[-1.83088109  1.30006749  0.55872459  0.17494509  0.65157424]\n"
     ]
    }
   ],
   "source": [
    "print(a.T)"
   ]
  },
  {
   "cell_type": "code",
   "execution_count": 13,
   "metadata": {},
   "outputs": [
    {
     "name": "stdout",
     "output_type": "stream",
     "text": [
      "5.809629001411512\n"
     ]
    }
   ],
   "source": [
    "print(np.dot(a.T,a))"
   ]
  },
  {
   "cell_type": "markdown",
   "metadata": {},
   "source": [
    "### _______seperate line______\n",
    "\n",
    "So what happened above is that if we directly using the *(5)* we got the structure called*Rank 1 array* type in python, Under such structure we could find that the transpose of the a and a were exactly the same, So simply you could not got the out product of the a.T and a\n",
    "\n",
    "## So we using the tips below"
   ]
  },
  {
   "cell_type": "code",
   "execution_count": 15,
   "metadata": {},
   "outputs": [
    {
     "name": "stdout",
     "output_type": "stream",
     "text": [
      "[[-3.1971341 ]\n",
      " [ 0.58662197]\n",
      " [ 0.5608328 ]\n",
      " [ 1.41608014]\n",
      " [-0.3395458 ]]\n"
     ]
    }
   ],
   "source": [
    "a = np. random.randn(5,1)\n",
    "print(a)"
   ]
  },
  {
   "cell_type": "code",
   "execution_count": 16,
   "metadata": {},
   "outputs": [
    {
     "name": "stdout",
     "output_type": "stream",
     "text": [
      "[[-3.1971341   0.58662197  0.5608328   1.41608014 -0.3395458 ]]\n"
     ]
    }
   ],
   "source": [
    "print(a.T)"
   ]
  },
  {
   "cell_type": "code",
   "execution_count": 17,
   "metadata": {},
   "outputs": [
    {
     "name": "stdout",
     "output_type": "stream",
     "text": [
      "[[13.00089955]]\n",
      "[[10.22166647 -1.87550911 -1.79305766 -4.52739811  1.08557345]\n",
      " [-1.87550911  0.34412534  0.32899684  0.83070373 -0.19918503]\n",
      " [-1.79305766  0.32899684  0.31453342  0.79418419 -0.19042842]\n",
      " [-4.52739811  0.83070373  0.79418419  2.00528297 -0.48082406]\n",
      " [ 1.08557345 -0.19918503 -0.19042842 -0.48082406  0.11529135]]\n"
     ]
    }
   ],
   "source": [
    "print(np.dot(a.T,a))\n",
    "print(np.dot(a,a.T))"
   ]
  },
  {
   "cell_type": "markdown",
   "metadata": {},
   "source": [
    "### So exactly,the problem we met above solved"
   ]
  },
  {
   "cell_type": "code",
   "execution_count": 20,
   "metadata": {},
   "outputs": [
    {
     "name": "stdout",
     "output_type": "stream",
     "text": [
      "[[-3.1971341 ]\n",
      " [ 0.58662197]\n",
      " [ 0.5608328 ]\n",
      " [ 1.41608014]\n",
      " [-0.3395458 ]]\n"
     ]
    }
   ],
   "source": [
    "assert(a.shape ==(5,1))\n",
    "print(a)"
   ]
  },
  {
   "cell_type": "markdown",
   "metadata": {},
   "source": [
    "### So in the programming do not using the Rank 1 array instead using the whole shape array of the matrix"
   ]
  },
  {
   "cell_type": "markdown",
   "metadata": {},
   "source": [
    "### Try "
   ]
  },
  {
   "cell_type": "code",
   "execution_count": 4,
   "metadata": {},
   "outputs": [
    {
     "name": "stdout",
     "output_type": "stream",
     "text": [
      "[[ 1.48039329 -0.68727756  0.44343401]\n",
      " [ 0.77933488  0.88867013 -2.46006448]\n",
      " [ 0.2233973   0.80149491 -0.03419342]]\n"
     ]
    }
   ],
   "source": [
    "import numpy as np\n",
    "a = np.random.randn(3,3)\n",
    "b = np.random.randn(3,1)\n",
    "print(a*b)\n"
   ]
  },
  {
   "cell_type": "markdown",
   "metadata": {},
   "source": [
    "##### a*b is element-wisable, np.dot()is matrix mutification"
   ]
  },
  {
   "cell_type": "code",
   "execution_count": null,
   "metadata": {},
   "outputs": [],
   "source": []
  }
 ],
 "metadata": {
  "kernelspec": {
   "display_name": "Python 3",
   "language": "python",
   "name": "python3"
  },
  "language_info": {
   "codemirror_mode": {
    "name": "ipython",
    "version": 3
   },
   "file_extension": ".py",
   "mimetype": "text/x-python",
   "name": "python",
   "nbconvert_exporter": "python",
   "pygments_lexer": "ipython3",
   "version": "3.9.0"
  }
 },
 "nbformat": 4,
 "nbformat_minor": 4
}
