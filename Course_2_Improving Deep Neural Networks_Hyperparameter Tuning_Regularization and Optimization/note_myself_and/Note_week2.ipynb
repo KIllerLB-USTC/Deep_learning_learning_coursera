{
 "cells": [
  {
   "cell_type": "markdown",
   "metadata": {},
   "source": [
    "# So here is my week2 note for the course\n",
    "\n",
    "####  Optimazation in the deeplearnig\n",
    "\n",
    "-  batch \n",
    "- mini_batch gradient decents"
   ]
  },
  {
   "cell_type": "markdown",
   "metadata": {},
   "source": [
    "<img src=\"images/1.png\" style=\"width:450px;height:300px;\">"
   ]
  },
  {
   "cell_type": "markdown",
   "metadata": {},
   "source": [
    "- batch __> whole datasets\n",
    "- mini_batch ---> part of it"
   ]
  },
  {
   "cell_type": "markdown",
   "metadata": {},
   "source": [
    "#### So the step is here for the *mini BATCH GD* ____ Doing one epoch\n",
    "\n",
    "- forward prop\n",
    "- compute the cost\n",
    "- backprop to compute the gradients\n",
    "\n",
    "<h4 style ='color:red;'> for  a large learning sets this method will go much faster!</h4>\n"
   ]
  },
  {
   "cell_type": "markdown",
   "metadata": {},
   "source": [
    "#### Understading the mini batch Gradient decents\n",
    "\n",
    "- every step may not always decents \n",
    "\n",
    "#### the size of the mini-batch decents\n",
    "\n",
    "- size = m : batch gradients decent\n",
    "- size = 1 : stochaostic gradient decent \n",
    "- in practice : between in 1 : m will give the *Fast learning*\n",
    "- -not always hit the local minimam\n",
    "\n",
    "#### Chosing your mini-batch size \n",
    "\n",
    "- typeical mini-batch size :  64, 128, 256, 512 (power of 2)\n",
    "- make sure minibatch fit in cpu/gpu memories"
   ]
  },
  {
   "cell_type": "markdown",
   "metadata": {},
   "source": [
    "#### Method 2 : Exponentially weighted averages (Exponetial moving average)\n",
    "\n",
    "- V_0 = 0 implement this : \n",
    "\n",
    "$$ v_t = \\beta v_{t-1} + (1- \\beta) \\theta_1$$\n",
    "\n",
    "- vt is averaging over the \n",
    "\n",
    "$\\approx \\frac{1}{1-\\beta}$ days temperature ---> which for the days calc it will decay to $\\frac{1}{e}$\n",
    "\n",
    "\n",
    "\n",
    "\n"
   ]
  },
  {
   "cell_type": "markdown",
   "metadata": {},
   "source": [
    "#### This is how you understanding the  EWA\n",
    "\n",
    "- just try to du the commutation\n",
    "\n",
    "$$V_{100} = 0.1 \\theta_{100} + 0.1 \\times 0.9 \\times \\theta_{99} \\dots  \\times 0.1 \\times 0.9^{99} \\theta_{1}$$\n",
    "\n",
    "- and the ituation is if $\\beta = 0.9$ you will need ten days to decay to the value $\\frac{1}{e}$ "
   ]
  },
  {
   "cell_type": "code",
   "execution_count": 4,
   "metadata": {},
   "outputs": [],
   "source": [
    "import numpy as np\n",
    "import matplotlib.pyplot as plt"
   ]
  },
  {
   "cell_type": "code",
   "execution_count": 8,
   "metadata": {},
   "outputs": [
    {
     "name": "stdout",
     "output_type": "stream",
     "text": [
      "0.3486784401000001 0.36787944117144233\n"
     ]
    }
   ],
   "source": [
    "theta = 0.9 \n",
    "\n",
    "x = pow(theta,10)\n",
    "y = 1/np.exp(1)\n",
    "\n",
    "print(x,y)"
   ]
  },
  {
   "cell_type": "code",
   "execution_count": 35,
   "metadata": {},
   "outputs": [
    {
     "name": "stdout",
     "output_type": "stream",
     "text": [
      "Here is the theta for1circle[0.31365853]\n",
      "Here is the theta for2circle[1.28064172]\n",
      "Here is the theta for3circle[-0.14586638]\n",
      "Here is the theta for4circle[0.07632946]\n",
      "Here is the theta for5circle[0.75067415]\n",
      "Here is the theta for6circle[-1.07052623]\n",
      "Here is the theta for7circle[0.29311409]\n",
      "Here is the theta for8circle[0.86706871]\n",
      "Here is the theta for9circle[0.66781914]\n",
      "Here is the theta for10circle[1.28032971]\n",
      "Here is the theta for11circle[0.05382586]\n",
      "Here is the theta for12circle[0.63270807]\n",
      "Here is the theta for13circle[1.22709036]\n",
      "Here is the theta for14circle[-0.23192904]\n",
      "Here is the theta for15circle[0.14595612]\n",
      "Here is the theta for16circle[-0.3257365]\n",
      "Here is the theta for17circle[-0.90908569]\n",
      "Here is the theta for18circle[-0.52975949]\n",
      "Here is the theta for19circle[1.09220708]\n",
      "[1, 2, 3, 4, 5, 6, 7, 8, 9, 10, 11, 12, 13, 14, 15, 16, 17, 18, 19]\n",
      "[0.003813355515887232, 0.019382969164302762, 0.017609574462461797, 0.01853756254594459, 0.02766400774617425, 0.014648907979519758, 0.018212491023964224, 0.02875402227895152, 0.0368731439682755, 0.05243896430044712, 0.05309336110895459, 0.06078561416725362, 0.07570416829982472, 0.07288445264236594, 0.07465893830282937, 0.07069874290147127, 0.059646383243826345, 0.053205744586162125, 0.06648443283312831]\n",
      "[[-0.36139391]\n",
      " [ 0.31365853]\n",
      " [ 1.28064172]\n",
      " [-0.14586638]\n",
      " [ 0.07632946]\n",
      " [ 0.75067415]\n",
      " [-1.07052623]\n",
      " [ 0.29311409]\n",
      " [ 0.86706871]\n",
      " [ 0.66781914]\n",
      " [ 1.28032971]\n",
      " [ 0.05382586]\n",
      " [ 0.63270807]\n",
      " [ 1.22709036]\n",
      " [-0.23192904]\n",
      " [ 0.14595612]\n",
      " [-0.3257365 ]\n",
      " [-0.90908569]\n",
      " [-0.52975949]\n",
      " [ 1.09220708]]\n",
      "here is the prob 0.23099564372208178\n"
     ]
    },
    {
     "data": {
      "image/png": "[encoded data removed]",
      "text/plain": [
       "<Figure size 432x288 with 1 Axes>"
      ]
     },
     "metadata": {
      "needs_background": "light"
     },
     "output_type": "display_data"
    }
   ],
   "source": [
    "days = 20\n",
    " \n",
    "beta = 0.9\n",
    "\n",
    "v = 0.0\n",
    "\n",
    "Prob = 0.0\n",
    "\n",
    "v_rec = []\n",
    "\n",
    "day_rec = []\n",
    "\n",
    "theta =np.random.randn(days,1)\n",
    "\n",
    "for i in range(1,days):\n",
    "    v += (1-beta)*pow(beta,days)*float(theta[i])\n",
    "    Prob +=(1-beta)* pow(beta,days)\n",
    "    print('Here is the theta for'+ str(i)+'circle'+str(theta[i]))\n",
    "    v_rec.append(v)\n",
    "    day_rec.append(i)\n",
    "if len(day_rec)==len(v_rec):\n",
    "    plt.plot(day_rec,v_rec)\n",
    "    \n",
    "else: print(\" length exists fault here\")\n",
    "    \n",
    "print(day_rec)\n",
    "print(v_rec)\n",
    "print(theta)\n",
    "print('here is the prob '+ str(Prob))\n"
   ]
  },
  {
   "cell_type": "markdown",
   "metadata": {},
   "source": [
    "\n",
    "#### implmenting Bias Correction(if not the EWA will start at very low)\n",
    "\n",
    "- if you using BC it will be good \n",
    "\n",
    "$$\\frac{v_t}{1-\\beta^t}$$\n",
    "\n",
    "\n",
    "#### Gradinet decent with momentum ------><h5 style= 'color: orange'> speed up GD method 1</h5>\n",
    "\n",
    "use the gradient instead of the weights\n",
    "\n",
    "- computer the dw, db on mini-batch\n",
    "\n",
    "- $ vdw = \\beta vdw + (1-\\beta)dw$\n",
    "\n",
    "- $ vdb = \\beta vdb + (1-\\beta)db$\n",
    "\n",
    "- $\\omega = \\omega - \\alpha Vd\\omega$ \n",
    "\n",
    "- $b = v - \\alpha vdb$\n",
    "\n",
    "#### implement details \n",
    "\n",
    "On iteration $t$\n",
    "Compute $d W, d b$ on the current mini-batch\n",
    "\n",
    "\n",
    "\n",
    "\n",
    "$\n",
    "\\begin{array}{l}\n",
    "v_{d W}=\\beta v_{d W}+(1-\\beta) d W \\\\\n",
    "v_{d b}=\\beta v_{d b}+(1-\\beta) d b \\\\\n",
    "W=W-\\alpha v_{d W}, b=b-\\alpha v_{d b} \\\\\n",
    "\\text { Hyperparameters: } \\alpha, \\beta\n",
    "\\end{array} \\quad \\beta=0.9\n",
    "$\n",
    "\n",
    "\n",
    "\n",
    "\n",
    "\n",
    "\n",
    "\n"
   ]
  },
  {
   "cell_type": "markdown",
   "metadata": {},
   "source": [
    "#### RMS prop Method ----->(root mean square prop)\n",
    "<h5 style= 'color: orange'> speed up GD method 2</h5>\n",
    "\n"
   ]
  },
  {
   "cell_type": "code",
   "execution_count": 43,
   "metadata": {},
   "outputs": [],
   "source": [
    "x = np.sqrt(2)"
   ]
  },
  {
   "cell_type": "code",
   "execution_count": null,
   "metadata": {},
   "outputs": [],
   "source": []
  }
 ],
 "metadata": {
  "kernelspec": {
   "display_name": "Python 3",
   "language": "python",
   "name": "python3"
  },
  "language_info": {
   "codemirror_mode": {
    "name": "ipython",
    "version": 3
   },
   "file_extension": ".py",
   "mimetype": "text/x-python",
   "name": "python",
   "nbconvert_exporter": "python",
   "pygments_lexer": "ipython3",
   "version": "3.8.5"
  }
 },
 "nbformat": 4,
 "nbformat_minor": 4
}
